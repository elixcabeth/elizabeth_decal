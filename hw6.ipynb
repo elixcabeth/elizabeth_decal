{
 "cells": [
  {
   "cell_type": "code",
   "execution_count": 2,
   "id": "24b452eb",
   "metadata": {},
   "outputs": [],
   "source": [
    "import numpy as np"
   ]
  },
  {
   "cell_type": "code",
   "execution_count": null,
   "id": "b50a1b34-1981-49eb-865d-5ed842a17d02",
   "metadata": {},
   "outputs": [
    {
     "data": {
      "text/plain": [
       "array([[ 2,  3,  5],\n",
       "       [11, 13, 17],\n",
       "       [ 7, 10, 13]])"
      ]
     },
     "execution_count": 17,
     "metadata": {},
     "output_type": "execute_result"
    }
   ],
   "source": [
    "# 1. Prime Clusters - Given a 2D NumPy array, write a function to find the rows where at least one value is a prime number.\n",
    "\n",
    "arr = np.array([[2, 3, 5], [4, 6, 8], [11, 13, 17], [7, 10, 13]])\n",
    "\n",
    "def isPrime(num):\n",
    "    for i in range (2, int(np.sqrt(num))+1):\n",
    "        if num <= 1:\n",
    "            return False \n",
    "        if (num % i) == 0:\n",
    "            return False\n",
    "        else:\n",
    "            return True\n",
    "\n",
    "result = []\n",
    "for row in arr:\n",
    "    if any(isPrime(elem) for elem in row):\n",
    "        result.append(row)\n",
    "np.array(result)"
   ]
  },
  {
   "cell_type": "code",
   "execution_count": null,
   "id": "e54249fd",
   "metadata": {},
   "outputs": [
    {
     "data": {
      "text/plain": [
       "array([[0, 0, 0, 0, 0, 0, 0, 0],\n",
       "       [0, 0, 0, 0, 0, 0, 0, 0],\n",
       "       [0, 0, 0, 0, 0, 0, 0, 0],\n",
       "       [0, 0, 0, 0, 0, 0, 0, 0],\n",
       "       [0, 0, 0, 0, 0, 0, 0, 0],\n",
       "       [0, 0, 0, 0, 0, 0, 0, 0],\n",
       "       [0, 0, 0, 0, 0, 0, 0, 0],\n",
       "       [0, 0, 0, 0, 0, 0, 0, 0]])"
      ]
     },
     "execution_count": 38,
     "metadata": {},
     "output_type": "execute_result"
    }
   ],
   "source": [
    "# 2. Let's play Checkers!\n",
    "# 2.1 - Start by writing a function that creates a 8x8 square matrix with only zeros.\n",
    "\n",
    "def checkerboard():\n",
    "    board = np.zeros((8, 8), dtype=int)\n",
    "    return board\n",
    "checkerboard()"
   ]
  },
  {
   "cell_type": "code",
   "execution_count": null,
   "id": "fafe1aac",
   "metadata": {},
   "outputs": [
    {
     "data": {
      "text/plain": [
       "array([[1, 0, 1, 0, 1, 0, 1, 0],\n",
       "       [0, 0, 0, 0, 0, 0, 0, 0],\n",
       "       [1, 0, 1, 0, 1, 0, 1, 0],\n",
       "       [0, 0, 0, 0, 0, 0, 0, 0],\n",
       "       [1, 0, 1, 0, 1, 0, 1, 0],\n",
       "       [0, 0, 0, 0, 0, 0, 0, 0],\n",
       "       [1, 0, 1, 0, 1, 0, 1, 0],\n",
       "       [0, 0, 0, 0, 0, 0, 0, 0]])"
      ]
     },
     "execution_count": 47,
     "metadata": {},
     "output_type": "execute_result"
    }
   ],
   "source": [
    "# 2.2 - For only the odd rows, make an alternating pattern of ones and zeroes.\n",
    "\n",
    "def checkerboard():\n",
    "    board = np.zeros((8, 8), dtype=int)\n",
    "    board[::2,::2]=1\n",
    "    return board\n",
    "checkerboard()"
   ]
  },
  {
   "cell_type": "code",
   "execution_count": null,
   "id": "5375716b",
   "metadata": {},
   "outputs": [
    {
     "data": {
      "text/plain": [
       "array([[1, 0, 1, 0, 1, 0, 1, 0],\n",
       "       [0, 1, 0, 1, 0, 1, 0, 1],\n",
       "       [1, 0, 1, 0, 1, 0, 1, 0],\n",
       "       [0, 1, 0, 1, 0, 1, 0, 1],\n",
       "       [1, 0, 1, 0, 1, 0, 1, 0],\n",
       "       [0, 1, 0, 1, 0, 1, 0, 1],\n",
       "       [1, 0, 1, 0, 1, 0, 1, 0],\n",
       "       [0, 1, 0, 1, 0, 1, 0, 1]])"
      ]
     },
     "execution_count": 41,
     "metadata": {},
     "output_type": "execute_result"
    }
   ],
   "source": [
    "# 2.3 - Finish the checkerboard with the even rows.\n",
    "\n",
    "def checkerboard():\n",
    "    board = np.zeros((8, 8), dtype=int)\n",
    "    board[::2,::2]=1\n",
    "    board[1::2,1::2]=1\n",
    "    return board\n",
    "checkerboard()"
   ]
  },
  {
   "cell_type": "code",
   "execution_count": null,
   "id": "b315395b",
   "metadata": {},
   "outputs": [
    {
     "data": {
      "text/plain": [
       "array([[0, 1, 0, 1, 0, 1, 0, 1],\n",
       "       [1, 0, 1, 0, 1, 0, 1, 0],\n",
       "       [0, 1, 0, 1, 0, 1, 0, 1],\n",
       "       [1, 0, 1, 0, 1, 0, 1, 0],\n",
       "       [0, 1, 0, 1, 0, 1, 0, 1],\n",
       "       [1, 0, 1, 0, 1, 0, 1, 0],\n",
       "       [0, 1, 0, 1, 0, 1, 0, 1],\n",
       "       [1, 0, 1, 0, 1, 0, 1, 0]])"
      ]
     },
     "execution_count": 51,
     "metadata": {},
     "output_type": "execute_result"
    }
   ],
   "source": [
    "# 2.4 - Re-write your function such that the checkerboard begins with a 0 instead.\n",
    "\n",
    "def reverse_checkerboard():\n",
    "    board = np.zeros((8, 8), dtype=int)\n",
    "    board[1::2,::2]=1\n",
    "    board[::2,1::2]=1\n",
    "    return board\n",
    "reverse_checkerboard()"
   ]
  },
  {
   "cell_type": "code",
   "execution_count": 27,
   "id": "f43fa136",
   "metadata": {},
   "outputs": [
    {
     "name": "stdout",
     "output_type": "stream",
     "text": [
      "['g a l a x y', 'c l u s t e r s']\n",
      "['g  a  l  a  x  y', 'c  l  u  s  t  e  r  s']\n"
     ]
    }
   ],
   "source": [
    "# 3. The Expanding Universe - Write a function that takes in a string and a number, and returns the string with the specified number of spaces inserted between each letter, simulating the expansion of space!\n",
    "\n",
    "universe = np.array(['galaxy', 'clusters'])\n",
    "def expansion(universe, spaces):\n",
    "    def add_spaces(word):\n",
    "        gap = \" \" * spaces\n",
    "        return gap.join(word)\n",
    "    return np.array([add_spaces(word) for word in universe])\n",
    "\n",
    "print(list(expansion(universe, 1)))\n",
    "print(list(expansion(universe, 2)))"
   ]
  },
  {
   "cell_type": "code",
   "execution_count": null,
   "id": "b2324638",
   "metadata": {},
   "outputs": [
    {
     "name": "stdout",
     "output_type": "stream",
     "text": [
      "[[1889 1906 1846 1622 1541]\n",
      " [ 606 1647 1738  596  613]\n",
      " [1138  547  573 1442  724]\n",
      " [ 611 1933 1863 1346 1777]\n",
      " [ 920 1108 1732 1592  951]]\n"
     ]
    },
    {
     "data": {
      "text/plain": [
       "array([ 611, 1108, 1732, 1346,  724])"
      ]
     },
     "execution_count": 18,
     "metadata": {},
     "output_type": "execute_result"
    }
   ],
   "source": [
    "# 4. Second Dimmest Star - Write a function that takes a 2D NumPy array and returns an array containing only the second-smallest value in each column.\n",
    "\n",
    "np.random.seed(123)\n",
    "stars = np.random.randint(500, 2000, (5, 5))\n",
    "print(stars) # displays the random 2D array\n",
    "\n",
    "def secondDimmest(stars):\n",
    "    sorted = np.sort(stars, axis = 0) # axis = 0 sorts by column \n",
    "    return sorted[1] # slices array to only return second row (index 1)\n",
    "\n",
    "secondDimmest(stars)"
   ]
  }
 ],
 "metadata": {
  "kernelspec": {
   "display_name": "base",
   "language": "python",
   "name": "python3"
  },
  "language_info": {
   "codemirror_mode": {
    "name": "ipython",
    "version": 3
   },
   "file_extension": ".py",
   "mimetype": "text/x-python",
   "name": "python",
   "nbconvert_exporter": "python",
   "pygments_lexer": "ipython3",
   "version": "3.12.7"
  }
 },
 "nbformat": 4,
 "nbformat_minor": 5
}
